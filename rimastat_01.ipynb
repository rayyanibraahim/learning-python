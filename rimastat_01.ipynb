{
 "cells": [
  {
   "cell_type": "markdown",
   "id": "5f933839",
   "metadata": {},
   "source": [
    "# Lesson_1"
   ]
  },
  {
   "cell_type": "code",
   "execution_count": 1,
   "id": "9ef930e3",
   "metadata": {},
   "outputs": [
    {
     "name": "stdout",
     "output_type": "stream",
     "text": [
      "Hello!\n"
     ]
    }
   ],
   "source": [
    "# print statemnet\n",
    "print(\"Hello!\")"
   ]
  },
  {
   "cell_type": "markdown",
   "id": "a4549ff1",
   "metadata": {},
   "source": [
    "# Data Types"
   ]
  },
  {
   "cell_type": "code",
   "execution_count": 2,
   "id": "02a42c3b",
   "metadata": {},
   "outputs": [
    {
     "name": "stdout",
     "output_type": "stream",
     "text": [
      "4\n"
     ]
    },
    {
     "data": {
      "text/plain": [
       "int"
      ]
     },
     "execution_count": 2,
     "metadata": {},
     "output_type": "execute_result"
    }
   ],
   "source": [
    "# Integer\n",
    "x= 4\n",
    "print(x)\n",
    "type(x)\n"
   ]
  },
  {
   "cell_type": "code",
   "execution_count": 14,
   "id": "333facdc",
   "metadata": {},
   "outputs": [
    {
     "name": "stdout",
     "output_type": "stream",
     "text": [
      "4.2\n"
     ]
    },
    {
     "data": {
      "text/plain": [
       "float"
      ]
     },
     "execution_count": 14,
     "metadata": {},
     "output_type": "execute_result"
    }
   ],
   "source": [
    "# Float\n",
    "y = 4.2\n",
    "print(y)\n",
    "type(y)"
   ]
  },
  {
   "cell_type": "code",
   "execution_count": 15,
   "id": "673c397a",
   "metadata": {},
   "outputs": [
    {
     "name": "stdout",
     "output_type": "stream",
     "text": [
      "True\n"
     ]
    },
    {
     "data": {
      "text/plain": [
       "bool"
      ]
     },
     "execution_count": 15,
     "metadata": {},
     "output_type": "execute_result"
    }
   ],
   "source": [
    "# Boolean\n",
    "switch = True\n",
    "print(switch)\n",
    "type(switch)"
   ]
  },
  {
   "cell_type": "code",
   "execution_count": 17,
   "id": "b7908c76",
   "metadata": {},
   "outputs": [
    {
     "data": {
      "text/plain": [
       "str"
      ]
     },
     "execution_count": 17,
     "metadata": {},
     "output_type": "execute_result"
    }
   ],
   "source": [
    "# Strings\n",
    "name =\" Ali\"\n",
    "my_name = \"my name is rima \"\n",
    "type(my_name)"
   ]
  },
  {
   "cell_type": "markdown",
   "id": "a3ffde1c",
   "metadata": {},
   "source": [
    "# Working with Strings:"
   ]
  },
  {
   "cell_type": "code",
   "execution_count": 18,
   "id": "2b35f28b",
   "metadata": {},
   "outputs": [
    {
     "name": "stdout",
     "output_type": "stream",
     "text": [
      "Ahmed Ali\n"
     ]
    }
   ],
   "source": [
    "# String concatenation\n",
    "name = \"Ahmed\"+ \" \"+ \"Ali\"\n",
    "print(name)"
   ]
  },
  {
   "cell_type": "code",
   "execution_count": 20,
   "id": "6103f1d7",
   "metadata": {},
   "outputs": [
    {
     "name": "stdout",
     "output_type": "stream",
     "text": [
      "Hello Fatima!, you are 23 years old, you live in Khartoum...\n"
     ]
    }
   ],
   "source": [
    "# Formating Strings\n",
    "# 1) .format()\n",
    "name = \"Fatima\"\n",
    "age = 23\n",
    "state = \"Khartoum\"\n",
    "print(\"Hello {}!, you are {} years old, you live in {}...\".format(name, age, state))"
   ]
  },
  {
   "cell_type": "code",
   "execution_count": 22,
   "id": "089e864b",
   "metadata": {},
   "outputs": [
    {
     "name": "stdout",
     "output_type": "stream",
     "text": [
      "Hello  Sara\n"
     ]
    }
   ],
   "source": [
    "# 2) fstring\n",
    "name =\" Sara\"\n",
    "print(f\"Hello {name}\")"
   ]
  },
  {
   "cell_type": "code",
   "execution_count": 24,
   "id": "9e2b9dba",
   "metadata": {},
   "outputs": [
    {
     "name": "stdout",
     "output_type": "stream",
     "text": [
      "H\n",
      "e\n",
      "l\n",
      "l\n"
     ]
    }
   ],
   "source": [
    "# String Index\n",
    "word= \"Hello\"\n",
    "print(word[0])\n",
    "print(word[1])\n",
    "print(word[2])\n",
    "print(word[3])"
   ]
  },
  {
   "cell_type": "code",
   "execution_count": 25,
   "id": "f62d749f",
   "metadata": {},
   "outputs": [
    {
     "name": "stdout",
     "output_type": "stream",
     "text": [
      "He\n"
     ]
    }
   ],
   "source": [
    "# String Slicing\n",
    "print(word[0:2])"
   ]
  },
  {
   "cell_type": "code",
   "execution_count": 26,
   "id": "9a0ff53f",
   "metadata": {},
   "outputs": [
    {
     "name": "stdout",
     "output_type": "stream",
     "text": [
      "Hlo\n"
     ]
    }
   ],
   "source": [
    "print(word[0:5:2])"
   ]
  },
  {
   "cell_type": "code",
   "execution_count": 27,
   "id": "3b465974",
   "metadata": {},
   "outputs": [
    {
     "name": "stdout",
     "output_type": "stream",
     "text": [
      "Ahmed Ali\n"
     ]
    }
   ],
   "source": [
    "# .title()\n",
    "name = \"ahmed ali\"\n",
    "print(name.title())"
   ]
  },
  {
   "cell_type": "code",
   "execution_count": 28,
   "id": "6082e7fc",
   "metadata": {},
   "outputs": [
    {
     "name": "stdout",
     "output_type": "stream",
     "text": [
      "what is your name?\n"
     ]
    }
   ],
   "source": [
    "# .replace()\n",
    "Q = \"what is your name!\"\n",
    "print(Q.replace(\"!\", \"?\"))"
   ]
  },
  {
   "cell_type": "markdown",
   "id": "451a8434",
   "metadata": {},
   "source": [
    "# Variables"
   ]
  },
  {
   "cell_type": "code",
   "execution_count": 31,
   "id": "b1067f20",
   "metadata": {},
   "outputs": [
    {
     "name": "stdout",
     "output_type": "stream",
     "text": [
      "3\n"
     ]
    },
    {
     "data": {
      "text/plain": [
       "float"
      ]
     },
     "execution_count": 31,
     "metadata": {},
     "output_type": "execute_result"
    }
   ],
   "source": [
    "# Integer and Float Variables\n",
    "num1 = 3 ; num2 = 2.5\n",
    "print(num1)\n",
    "type(num2)"
   ]
  },
  {
   "cell_type": "code",
   "execution_count": 32,
   "id": "f9bd8595",
   "metadata": {},
   "outputs": [
    {
     "data": {
      "text/plain": [
       "bool"
      ]
     },
     "execution_count": 32,
     "metadata": {},
     "output_type": "execute_result"
    }
   ],
   "source": [
    "# Boolean Variable\n",
    "switch= True\n",
    "type(switch)"
   ]
  },
  {
   "cell_type": "code",
   "execution_count": 34,
   "id": "0a7da9ce",
   "metadata": {},
   "outputs": [
    {
     "data": {
      "text/plain": [
       "str"
      ]
     },
     "execution_count": 34,
     "metadata": {},
     "output_type": "execute_result"
    }
   ],
   "source": [
    "# String Variable\n",
    "name = \"sara\"\n",
    "type(name)"
   ]
  },
  {
   "cell_type": "code",
   "execution_count": 36,
   "id": "52394ddb",
   "metadata": {},
   "outputs": [
    {
     "name": "stdout",
     "output_type": "stream",
     "text": [
      "36\n"
     ]
    }
   ],
   "source": [
    "# Using Operators on Numerical Variables\n",
    "num1 = 4\n",
    "num2 = 5\n",
    "result = num1 +num2\n",
    "#result +=1 # result = result +1\n",
    "result *= num1 # result = result * num1\n",
    "print(result)"
   ]
  },
  {
   "cell_type": "code",
   "execution_count": null,
   "id": "0259f4f1",
   "metadata": {},
   "outputs": [],
   "source": []
  }
 ],
 "metadata": {
  "kernelspec": {
   "display_name": "Python 3 (ipykernel)",
   "language": "python",
   "name": "python3"
  },
  "language_info": {
   "codemirror_mode": {
    "name": "ipython",
    "version": 3
   },
   "file_extension": ".py",
   "mimetype": "text/x-python",
   "name": "python",
   "nbconvert_exporter": "python",
   "pygments_lexer": "ipython3",
   "version": "3.9.12"
  }
 },
 "nbformat": 4,
 "nbformat_minor": 5
}
