{
 "cells": [
  {
   "cell_type": "markdown",
   "id": "e5cf0a70",
   "metadata": {},
   "source": [
    "# List :"
   ]
  },
  {
   "cell_type": "code",
   "execution_count": 1,
   "id": "11945d17",
   "metadata": {},
   "outputs": [
    {
     "name": "stdout",
     "output_type": "stream",
     "text": [
      "[5.2, 'word', True]\n"
     ]
    }
   ],
   "source": [
    "# declaring a list\n",
    "num = 5.2\n",
    "data = [num, \"word\", True]\n",
    "print(data)"
   ]
  },
  {
   "cell_type": "code",
   "execution_count": 2,
   "id": "51de4bf5",
   "metadata": {},
   "outputs": [
    {
     "name": "stdout",
     "output_type": "stream",
     "text": [
      "5.2 \t word\n"
     ]
    }
   ],
   "source": [
    "print(data[0],\"\\t\", data[1])"
   ]
  },
  {
   "cell_type": "code",
   "execution_count": 4,
   "id": "cd1c0773",
   "metadata": {},
   "outputs": [
    {
     "name": "stdout",
     "output_type": "stream",
     "text": [
      "[3, 'rima']\n",
      "rima\n"
     ]
    }
   ],
   "source": [
    "#list within a alist\n",
    "data = [num, \"word\",[3, \"rima\"] , True]\n",
    "print(data[2])\n",
    "print(data[2][1])"
   ]
  },
  {
   "cell_type": "code",
   "execution_count": 5,
   "id": "57e1a61a",
   "metadata": {},
   "outputs": [
    {
     "name": "stdout",
     "output_type": "stream",
     "text": [
      "rima\n"
     ]
    }
   ],
   "source": [
    "inner_list = data[2]\n",
    "print(inner_list[1])"
   ]
  },
  {
   "cell_type": "markdown",
   "id": "cb09dccb",
   "metadata": {},
   "source": [
    "# Working with lists :"
   ]
  },
  {
   "cell_type": "code",
   "execution_count": 6,
   "id": "b9ab8854",
   "metadata": {},
   "outputs": [
    {
     "name": "stdout",
     "output_type": "stream",
     "text": [
      "[11, 3, 15, 12, 10, 30, 21]\n"
     ]
    }
   ],
   "source": [
    "# Changing values in a list\n",
    "data = [9,3,15,12,10,30,21]\n",
    "data[0]= 11\n",
    "print(data)"
   ]
  },
  {
   "cell_type": "code",
   "execution_count": 7,
   "id": "a8669004",
   "metadata": {},
   "outputs": [
    {
     "name": "stdout",
     "output_type": "stream",
     "text": [
      "[11, 3, 15, 12, 10, 30, 21] \t [11, 33, 15, 12, 10, 30, 21]\n"
     ]
    }
   ],
   "source": [
    "# copy a list\n",
    "my_copy = data[:]\n",
    "my_copy[1]=33\n",
    "print(data, \"\\t\", my_copy)"
   ]
  },
  {
   "cell_type": "code",
   "execution_count": 8,
   "id": "868850b4",
   "metadata": {},
   "outputs": [
    {
     "name": "stdout",
     "output_type": "stream",
     "text": [
      "7\n"
     ]
    }
   ],
   "source": [
    "# checking the number of items (length) using len()\n",
    "length = len(data)\n",
    "print(length)"
   ]
  },
  {
   "cell_type": "code",
   "execution_count": 9,
   "id": "538bcbc6",
   "metadata": {},
   "outputs": [
    {
     "name": "stdout",
     "output_type": "stream",
     "text": [
      "[22, 11, 3, 15, 12, 10, 30, 21]\n"
     ]
    }
   ],
   "source": [
    "# adding value to a list using insert()\n",
    "data.insert(0,22)\n",
    "print(data)"
   ]
  },
  {
   "cell_type": "code",
   "execution_count": 10,
   "id": "ad3c3965",
   "metadata": {},
   "outputs": [
    {
     "name": "stdout",
     "output_type": "stream",
     "text": [
      "[22, 11, 3, 44, 15, 12, 10, 30, 21]\n"
     ]
    }
   ],
   "source": [
    "data.insert(3,44)\n",
    "print(data)"
   ]
  },
  {
   "cell_type": "code",
   "execution_count": 12,
   "id": "f95ddc2c",
   "metadata": {},
   "outputs": [
    {
     "name": "stdout",
     "output_type": "stream",
     "text": [
      "['Asia', 'Ahmed'] Sara\n"
     ]
    }
   ],
   "source": [
    "# removing value from a list, by default delete last element using pop()\n",
    "names = [\"Sara\", \"Asia\", \"Ahmed\"]\n",
    "#removed_names = names.pop()\n",
    "removed_names = names.pop(0)\n",
    "print(names, removed_names)"
   ]
  },
  {
   "cell_type": "code",
   "execution_count": 16,
   "id": "6338adb1",
   "metadata": {},
   "outputs": [
    {
     "name": "stdout",
     "output_type": "stream",
     "text": [
      "[22, 11, 3, 44, 15, 12, 10, 30, 21]\n"
     ]
    }
   ],
   "source": [
    "print(data)"
   ]
  },
  {
   "cell_type": "code",
   "execution_count": 17,
   "id": "6129e016",
   "metadata": {},
   "outputs": [
    {
     "name": "stdout",
     "output_type": "stream",
     "text": [
      "3\n",
      "44\n",
      "168\n"
     ]
    }
   ],
   "source": [
    "# min, max , sum of items\n",
    "print(min(data)), print(max(data)); print(sum(data))"
   ]
  },
  {
   "cell_type": "code",
   "execution_count": 18,
   "id": "8cdd97cc",
   "metadata": {},
   "outputs": [
    {
     "name": "stdout",
     "output_type": "stream",
     "text": [
      "[3, 5, 2, 6, 1] [1, 2, 3, 5, 6]\n"
     ]
    }
   ],
   "source": [
    "# sorting a list using sorted()\n",
    "nums= [3,5,2,6,1]\n",
    "sorted_list = sorted(nums)\n",
    "print(nums, sorted_list)"
   ]
  },
  {
   "cell_type": "code",
   "execution_count": 19,
   "id": "650316c0",
   "metadata": {},
   "outputs": [
    {
     "name": "stdout",
     "output_type": "stream",
     "text": [
      "[10, 22, 31, 52, 61]\n"
     ]
    }
   ],
   "source": [
    "# sorting a list using .sort()\n",
    "nums= [31,52,22,61,10]\n",
    "nums.sort()\n",
    "print(nums)"
   ]
  },
  {
   "cell_type": "code",
   "execution_count": null,
   "id": "e0a9345b",
   "metadata": {},
   "outputs": [],
   "source": [
    "# using conditional statements in a list\n",
    "letters = [\"a\", \"b\", \"c\", \"d\", \"e\"]"
   ]
  }
 ],
 "metadata": {
  "kernelspec": {
   "display_name": "Python 3 (ipykernel)",
   "language": "python",
   "name": "python3"
  },
  "language_info": {
   "codemirror_mode": {
    "name": "ipython",
    "version": 3
   },
   "file_extension": ".py",
   "mimetype": "text/x-python",
   "name": "python",
   "nbconvert_exporter": "python",
   "pygments_lexer": "ipython3",
   "version": "3.9.12"
  }
 },
 "nbformat": 4,
 "nbformat_minor": 5
}
