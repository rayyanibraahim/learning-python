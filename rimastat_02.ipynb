{
 "cells": [
  {
   "cell_type": "markdown",
   "id": "edbd77c5",
   "metadata": {},
   "source": [
    "# If Statements:"
   ]
  },
  {
   "cell_type": "code",
   "execution_count": 5,
   "id": "21ff9da2",
   "metadata": {},
   "outputs": [
    {
     "name": "stdout",
     "output_type": "stream",
     "text": [
      "x is less than y\n"
     ]
    }
   ],
   "source": [
    "# if statement\n",
    "x,y = 3,9\n",
    "if x<y:\n",
    "    print(\"x is less than y\")"
   ]
  },
  {
   "cell_type": "code",
   "execution_count": 8,
   "id": "ee074e63",
   "metadata": {},
   "outputs": [
    {
     "name": "stdout",
     "output_type": "stream",
     "text": [
      "Please enter your password: rimastat\n",
      "The password is correct\n"
     ]
    }
   ],
   "source": [
    "# if - else statement\n",
    "password = input(\"Please enter your password: \")\n",
    "if password == \"rimastat\":\n",
    "    print(\"The password is correct\")\n",
    "else:\n",
    "    print(\"Try again\")"
   ]
  },
  {
   "cell_type": "code",
   "execution_count": 9,
   "id": "72433b8a",
   "metadata": {},
   "outputs": [
    {
     "name": "stdout",
     "output_type": "stream",
     "text": [
      "x is less than y\n"
     ]
    }
   ],
   "source": [
    "# if - elif statement \n",
    "x,y = 10, 15\n",
    "if x>y:\n",
    "    print(\"x is greater than y\")\n",
    "elif x<y:\n",
    "    print('x is less than y')"
   ]
  },
  {
   "cell_type": "code",
   "execution_count": 41,
   "id": "94876d6c",
   "metadata": {},
   "outputs": [
    {
     "name": "stdout",
     "output_type": "stream",
     "text": [
      "Please enter your country: sudan\n",
      "Your country is Sudan, you are allowed to apply\n"
     ]
    }
   ],
   "source": [
    "#[\"Sudan\", \"Egypt\", \"Syria\"]\n",
    "# if-elif-else\n",
    "country = input(\"Please enter your country: \")\n",
    "if country.title() == \"Sudan\":\n",
    "    print(\"Your country is Sudan, you are allowed to apply\")\n",
    "elif country.title() == \"Syria\":\n",
    "    print(\"Your country is Syria, you are allowed to apply\")\n",
    "elif country.title() == \"Egypt\":\n",
    "    print(\"Your country is Egypt, you are allowed to apply\")\n",
    "else:\n",
    "    print(\"Sorry! your country is not in the list\")"
   ]
  },
  {
   "cell_type": "code",
   "execution_count": 42,
   "id": "6be676df",
   "metadata": {},
   "outputs": [
    {
     "name": "stdout",
     "output_type": "stream",
     "text": [
      "x is greater than zero\n",
      "x is an even number\n",
      "x is not zero\n"
     ]
    }
   ],
   "source": [
    "# if statements\n",
    "x = 4\n",
    "if x>0:\n",
    "    print(\"x is greater than zero\")\n",
    "if x%2 ==0:\n",
    "    print(\"x is an even number\")\n",
    "if x != 0:\n",
    "    print(\"x is not zero\")"
   ]
  },
  {
   "cell_type": "code",
   "execution_count": null,
   "id": "c0361d5a",
   "metadata": {},
   "outputs": [],
   "source": []
  }
 ],
 "metadata": {
  "kernelspec": {
   "display_name": "Python 3 (ipykernel)",
   "language": "python",
   "name": "python3"
  },
  "language_info": {
   "codemirror_mode": {
    "name": "ipython",
    "version": 3
   },
   "file_extension": ".py",
   "mimetype": "text/x-python",
   "name": "python",
   "nbconvert_exporter": "python",
   "pygments_lexer": "ipython3",
   "version": "3.9.12"
  }
 },
 "nbformat": 4,
 "nbformat_minor": 5
}
